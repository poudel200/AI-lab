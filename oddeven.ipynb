{
  "nbformat": 4,
  "nbformat_minor": 0,
  "metadata": {
    "colab": {
      "provenance": [],
      "authorship_tag": "ABX9TyOlhGd5Uo/Nku993uABrujr",
      "include_colab_link": true
    },
    "kernelspec": {
      "name": "python3",
      "display_name": "Python 3"
    },
    "language_info": {
      "name": "python"
    }
  },
  "cells": [
    {
      "cell_type": "markdown",
      "metadata": {
        "id": "view-in-github",
        "colab_type": "text"
      },
      "source": [
        "<a href=\"https://colab.research.google.com/github/poudel200/AI-lab/blob/main/oddeven.ipynb\" target=\"_parent\"><img src=\"https://colab.research.google.com/assets/colab-badge.svg\" alt=\"Open In Colab\"/></a>"
      ]
    },
    {
      "cell_type": "code",
      "execution_count": null,
      "metadata": {
        "id": "XXukqcJuAm33"
      },
      "outputs": [],
      "source": [
        "import numpy as np\n",
        "\n",
        "def step_function(x):\n",
        "    return 1 if x >= 0 else 0\n",
        "\n",
        "def perceptron_train(inputs, targets, learning_rate, epochs):\n",
        "    weights = np.zeros(len(inputs[0]))\n",
        "    bias = 0\n",
        "\n",
        "    for _ in range(epochs):\n",
        "        for i in range(len(inputs)):\n",
        "            linear_output = np.dot(inputs[i], weights) + bias\n",
        "            prediction = step_function(linear_output)\n",
        "            error = targets[i] - prediction\n",
        "\n",
        "            weights += learning_rate * error * inputs[i]\n",
        "            bias += learning_rate * error\n",
        "\n",
        "    return weights, bias\n",
        "\n",
        "def perceptron_predict(inputs, weights, bias):\n",
        "    predictions = []\n",
        "    for i in range(len(inputs)):\n",
        "        linear_output = np.dot(inputs[i], weights) + bias\n",
        "        predictions.append(step_function(linear_output))\n",
        "    return predictions\n",
        "\n",
        "# Input: Numbers represented as binary (e.g., 2 as [0, 1], 3 as [1, 1], etc.)\n",
        "# Output: 0 for even, 1 for odd\n",
        "X_train = np.array([[0], [1], [10], [11], [20], [21], [30], [31]])\n",
        "y_train = np.array([0, 1, 0, 1, 0, 1, 0, 1])\n",
        "\n",
        "learning_rate = 0.1\n",
        "epochs = 10\n",
        "\n",
        "weights, bias = perceptron_train(X_train, y_train, learning_rate, epochs)\n",
        "\n",
        "print(\"Trained weight:\", weights)\n",
        "print(\"Trained bias:\", bias)\n",
        "\n",
        "X_test = np.array([[12], [13], [15], [18]])  # Testing with even and odd numbers\n",
        "predictions = perceptron_predict(X_test, weights, bias)\n",
        "\n",
        "print(\"Predictions for test data:\", predictions)\n"
      ]
    }
  ]
}