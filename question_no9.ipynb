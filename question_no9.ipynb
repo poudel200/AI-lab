{
  "nbformat": 4,
  "nbformat_minor": 0,
  "metadata": {
    "colab": {
      "provenance": [],
      "authorship_tag": "ABX9TyP69hww02tw5w7zP8cKcbA7",
      "include_colab_link": true
    },
    "kernelspec": {
      "name": "python3",
      "display_name": "Python 3"
    },
    "language_info": {
      "name": "python"
    }
  },
  "cells": [
    {
      "cell_type": "markdown",
      "metadata": {
        "id": "view-in-github",
        "colab_type": "text"
      },
      "source": [
        "<a href=\"https://colab.research.google.com/github/poudel200/AI-lab/blob/main/question_no9.ipynb\" target=\"_parent\"><img src=\"https://colab.research.google.com/assets/colab-badge.svg\" alt=\"Open In Colab\"/></a>"
      ]
    },
    {
      "cell_type": "code",
      "execution_count": 1,
      "metadata": {
        "colab": {
          "base_uri": "https://localhost:8080/"
        },
        "id": "uPZoc_Ok9gpt",
        "outputId": "59233318-11a8-485a-aba6-c38270721d09"
      },
      "outputs": [
        {
          "output_type": "stream",
          "name": "stdout",
          "text": [
            "Initial State:\n",
            "[1, 2, 3]\n",
            "[4, 0, 6]\n",
            "[7, 5, 8]\n",
            "\n",
            "Final State:\n",
            "[6, 2, 8]\n",
            "[4, 5, 0]\n",
            "[3, 1, 7]\n",
            "\n",
            "Heuristic Value: 15\n"
          ]
        }
      ],
      "source": [
        "import math\n",
        "import random\n",
        "\n",
        "class PuzzleState:\n",
        "    def __init__(self, board, parent=None, move=\"\"):\n",
        "        self.board = board\n",
        "        self.parent = parent\n",
        "        self.move = move\n",
        "        self.h = heuristic(board)\n",
        "\n",
        "    def __lt__(self, other):\n",
        "        return self.h < other.h\n",
        "\n",
        "def find_blank(board):\n",
        "    for i in range(3):\n",
        "        for j in range(3):\n",
        "            if board[i][j] == 0:\n",
        "                return i, j\n",
        "\n",
        "def get_neighbors(state):\n",
        "    x, y = find_blank(state.board)\n",
        "    directions = {\"Up\": (x - 1, y), \"Down\": (x + 1, y), \"Left\": (x, y - 1), \"Right\": (x, y + 1)}\n",
        "    neighbors = []\n",
        "    for move, (new_x, new_y) in directions.items():\n",
        "        if 0 <= new_x < 3 and 0 <= new_y < 3:\n",
        "            new_board = [row[:] for row in state.board]\n",
        "            new_board[x][y], new_board[new_x][new_y] = new_board[new_x][new_y], new_board[x][y]\n",
        "            neighbors.append(PuzzleState(new_board, state, move))\n",
        "    return neighbors\n",
        "\n",
        "def heuristic(board):\n",
        "    goal = [1, 2, 3, 4, 5, 6, 7, 8, 0]\n",
        "    distance = 0\n",
        "    for i in range(3):\n",
        "        for j in range(3):\n",
        "            if board[i][j] != 0:\n",
        "                x, y = divmod(goal.index(board[i][j]), 3)\n",
        "                distance += abs(x - i) + abs(y - j)\n",
        "    return distance\n",
        "\n",
        "def simulated_annealing(start, initial_temp, cooling_rate):\n",
        "    current_state = PuzzleState(start)\n",
        "    temp = initial_temp\n",
        "\n",
        "    while temp > 1:\n",
        "        neighbors = get_neighbors(current_state)\n",
        "        next_state = random.choice(neighbors)\n",
        "        delta_e = current_state.h - next_state.h\n",
        "\n",
        "        if delta_e > 0 or random.uniform(0, 1) < math.exp(delta_e / temp):\n",
        "            current_state = next_state\n",
        "\n",
        "        temp *= cooling_rate\n",
        "\n",
        "    return current_state\n",
        "\n",
        "def print_board(board):\n",
        "    for row in board:\n",
        "        print(row)\n",
        "    print()\n",
        "\n",
        "start_state = [\n",
        "    [1, 2, 3],\n",
        "    [4, 0, 6],\n",
        "    [7, 5, 8]\n",
        "]\n",
        "\n",
        "print(\"Initial State:\")\n",
        "print_board(start_state)\n",
        "\n",
        "result = simulated_annealing(start_state, initial_temp=1000, cooling_rate=0.95)\n",
        "\n",
        "print(\"Final State:\")\n",
        "print_board(result.board)\n",
        "print(\"Heuristic Value:\", result.h)\n"
      ]
    }
  ]
}