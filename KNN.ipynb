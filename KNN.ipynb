{
  "nbformat": 4,
  "nbformat_minor": 0,
  "metadata": {
    "colab": {
      "provenance": [],
      "authorship_tag": "ABX9TyOchtQk/ytvJOKNnQBNwhoe",
      "include_colab_link": true
    },
    "kernelspec": {
      "name": "python3",
      "display_name": "Python 3"
    },
    "language_info": {
      "name": "python"
    }
  },
  "cells": [
    {
      "cell_type": "markdown",
      "metadata": {
        "id": "view-in-github",
        "colab_type": "text"
      },
      "source": [
        "<a href=\"https://colab.research.google.com/github/poudel200/AI-lab/blob/main/KNN.ipynb\" target=\"_parent\"><img src=\"https://colab.research.google.com/assets/colab-badge.svg\" alt=\"Open In Colab\"/></a>"
      ]
    },
    {
      "cell_type": "code",
      "execution_count": null,
      "metadata": {
        "id": "EgR8-Wub_hei"
      },
      "outputs": [],
      "source": [
        "import numpy as np\n",
        "from collections import Counter\n",
        "\n",
        "def euclidean_distance(x1, x2):\n",
        "    return np.sqrt(np.sum((x1 - x2) ** 2))\n",
        "\n",
        "def knn_classify(X_train, y_train, X_test, k):\n",
        "    predictions = []\n",
        "    for test_sample in X_test:\n",
        "        distances = [euclidean_distance(test_sample, train_sample) for train_sample in X_train]\n",
        "        k_indices = np.argsort(distances)[:k]\n",
        "        k_nearest_labels = [y_train[i] for i in k_indices]\n",
        "        most_common = Counter(k_nearest_labels).most_common(1)\n",
        "        predictions.append(most_common[0][0])\n",
        "    return predictions\n",
        "\n",
        "X_train = np.array([\n",
        "    [2, 4], [4, 6], [4, 4], [6, 2], [8, 4], [10, 6]\n",
        "])\n",
        "y_train = np.array([0, 0, 0, 1, 1, 1])\n",
        "\n",
        "X_test = np.array([\n",
        "    [5, 5], [7, 3], [9, 5]\n",
        "])\n",
        "\n",
        "k = 3\n",
        "predictions = knn_classify(X_train, y_train, X_test, k)\n",
        "\n",
        "print(\"Predictions:\", predictions)\n"
      ]
    }
  ]
}