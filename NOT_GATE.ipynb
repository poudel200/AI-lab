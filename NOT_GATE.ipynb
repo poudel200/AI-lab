{
  "nbformat": 4,
  "nbformat_minor": 0,
  "metadata": {
    "colab": {
      "provenance": [],
      "authorship_tag": "ABX9TyObQc2t2GdO/y9+DcbSXbQg",
      "include_colab_link": true
    },
    "kernelspec": {
      "name": "python3",
      "display_name": "Python 3"
    },
    "language_info": {
      "name": "python"
    }
  },
  "cells": [
    {
      "cell_type": "markdown",
      "metadata": {
        "id": "view-in-github",
        "colab_type": "text"
      },
      "source": [
        "<a href=\"https://colab.research.google.com/github/poudel200/AI-lab/blob/main/NOT_GATE.ipynb\" target=\"_parent\"><img src=\"https://colab.research.google.com/assets/colab-badge.svg\" alt=\"Open In Colab\"/></a>"
      ]
    },
    {
      "cell_type": "code",
      "execution_count": null,
      "metadata": {
        "id": "eVAKOiya_Mxd"
      },
      "outputs": [],
      "source": [
        "import numpy as np\n",
        "\n",
        "def step_function(x):\n",
        "    return 1 if x >= 0 else 0\n",
        "\n",
        "def perceptron_train(inputs, targets, learning_rate, epochs):\n",
        "    weights = np.zeros(len(inputs[0]))\n",
        "    bias = 0\n",
        "\n",
        "    for _ in range(epochs):\n",
        "        for i in range(len(inputs)):\n",
        "            linear_output = np.dot(inputs[i], weights) + bias\n",
        "            prediction = step_function(linear_output)\n",
        "            error = targets[i] - prediction\n",
        "\n",
        "            weights += learning_rate * error * inputs[i]\n",
        "            bias += learning_rate * error\n",
        "\n",
        "    return weights, bias\n",
        "\n",
        "def perceptron_predict(inputs, weights, bias):\n",
        "    predictions = []\n",
        "    for i in range(len(inputs)):\n",
        "        linear_output = np.dot(inputs[i], weights) + bias\n",
        "        predictions.append(step_function(linear_output))\n",
        "    return predictions\n",
        "\n",
        "inputs = np.array([[0], [1]])\n",
        "targets = np.array([1, 0])\n",
        "\n",
        "learning_rate = 0.1\n",
        "epochs = 10\n",
        "\n",
        "weights, bias = perceptron_train(inputs, targets, learning_rate, epochs)\n",
        "\n",
        "print(\"Trained weight:\", weights)\n",
        "print(\"Trained bias:\", bias)\n",
        "\n",
        "predictions = perceptron_predict(inputs, weights, bias)\n",
        "print(\"Predictions:\", predictions)\n"
      ]
    }
  ]
}