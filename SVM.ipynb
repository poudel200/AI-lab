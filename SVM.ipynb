{
  "nbformat": 4,
  "nbformat_minor": 0,
  "metadata": {
    "colab": {
      "provenance": [],
      "authorship_tag": "ABX9TyNMfF3zgpzWafq/T1pZBA4j",
      "include_colab_link": true
    },
    "kernelspec": {
      "name": "python3",
      "display_name": "Python 3"
    },
    "language_info": {
      "name": "python"
    }
  },
  "cells": [
    {
      "cell_type": "markdown",
      "metadata": {
        "id": "view-in-github",
        "colab_type": "text"
      },
      "source": [
        "<a href=\"https://colab.research.google.com/github/poudel200/AI-lab/blob/main/SVM.ipynb\" target=\"_parent\"><img src=\"https://colab.research.google.com/assets/colab-badge.svg\" alt=\"Open In Colab\"/></a>"
      ]
    },
    {
      "cell_type": "code",
      "execution_count": null,
      "metadata": {
        "id": "fsHsTwxU_ueL"
      },
      "outputs": [],
      "source": [
        "import numpy as np\n",
        "import matplotlib.pyplot as plt\n",
        "from sklearn import svm\n",
        "\n",
        "X = np.array([\n",
        "    [1, 2], [2, 3], [3, 3], [5, 5], [6, 7], [7, 8]\n",
        "])\n",
        "y = np.array([0, 0, 0, 1, 1, 1])\n",
        "\n",
        "model = svm.SVC(kernel='linear', C=1.0)\n",
        "model.fit(X, y)\n",
        "\n",
        "def plot_decision_boundary(model, X, y):\n",
        "    plt.scatter(X[:, 0], X[:, 1], c=y, cmap='coolwarm', edgecolors='k')\n",
        "    ax = plt.gca()\n",
        "    xlim = ax.get_xlim()\n",
        "    ylim = ax.get_ylim()\n",
        "\n",
        "    xx, yy = np.meshgrid(np.linspace(xlim[0], xlim[1], 50), np.linspace(ylim[0], ylim[1], 50))\n",
        "    Z = model.decision_function(np.c_[xx.ravel(), yy.ravel()])\n",
        "    Z = Z.reshape(xx.shape)\n",
        "\n",
        "    plt.contour(xx, yy, Z, levels=[-1, 0, 1], linestyles=['--', '-', '--'], colors='black')\n",
        "    plt.scatter(model.support_vectors_[:, 0], model.support_vectors_[:, 1], s=100, edgecolors='yellow')\n",
        "    plt.title(\"SVM Decision Boundary\")\n",
        "    plt.show()\n",
        "\n",
        "plot_decision_boundary(model, X, y)\n",
        "\n",
        "X_test = np.array([[3, 4], [6, 6]])\n",
        "predictions = model.predict(X_test)\n",
        "\n",
        "print(\"Predictions for test data:\", predictions)\n"
      ]
    }
  ]
}