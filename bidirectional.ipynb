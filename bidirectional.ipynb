{
  "nbformat": 4,
  "nbformat_minor": 0,
  "metadata": {
    "colab": {
      "provenance": [],
      "authorship_tag": "ABX9TyMb+f5p6jvuSsuAGdxCi68/",
      "include_colab_link": true
    },
    "kernelspec": {
      "name": "python3",
      "display_name": "Python 3"
    },
    "language_info": {
      "name": "python"
    }
  },
  "cells": [
    {
      "cell_type": "markdown",
      "metadata": {
        "id": "view-in-github",
        "colab_type": "text"
      },
      "source": [
        "<a href=\"https://colab.research.google.com/github/poudel200/AI-lab/blob/main/bidirectional.ipynb\" target=\"_parent\"><img src=\"https://colab.research.google.com/assets/colab-badge.svg\" alt=\"Open In Colab\"/></a>"
      ]
    },
    {
      "cell_type": "code",
      "execution_count": null,
      "metadata": {
        "id": "0ltJV__wA7BD"
      },
      "outputs": [],
      "source": [
        "import numpy as np\n",
        "\n",
        "def train_bam(id_vectors, phone_vectors):\n",
        "    \"\"\"\n",
        "    Train the BAM using Hebbian learning.\n",
        "\n",
        "    :param id_vectors: Binary vectors for ID\n",
        "    :param phone_vectors: Binary vectors for phone numbers\n",
        "    :return: BAM weights matrix\n",
        "    \"\"\"\n",
        "    # Ensure that both id_vectors and phone_vectors have the same number of samples\n",
        "    if id_vectors.shape[0] != phone_vectors.shape[0]:\n",
        "        raise ValueError(\"ID vectors and Phone number vectors must have the same number of samples\")\n",
        "\n",
        "    # Initialize weights to zero\n",
        "    num_id_features = id_vectors.shape[1]\n",
        "    num_phone_features = phone_vectors.shape[1]\n",
        "\n",
        "    # Create a BAM weight matrix (id -> phone, phone -> id)\n",
        "    weights = np.zeros((num_id_features + num_phone_features, num_id_features + num_phone_features))\n",
        "\n",
        "    # Train using Hebbian learning rule: outer product of input and output vectors\n",
        "    for i in range(id_vectors.shape[0]):\n",
        "        id_vector = id_vectors[i]\n",
        "        phone_vector = phone_vectors[i]\n",
        "\n",
        "        # Outer product for BAM weights (id -> phone and vice versa)\n",
        "        input_vector = np.concatenate((id_vector, phone_vector))  # Concatenate ID and Phone vectors\n",
        "        outer_product = np.outer(input_vector, input_vector)\n",
        "\n",
        "        # Update the BAM weights\n",
        "        weights += outer_product\n",
        "\n",
        "    return weights\n",
        "\n",
        "def bam_retrieve(weights, input_vector, vector_type='id'):\n",
        "    \"\"\"\n",
        "    Retrieve the corresponding vector for given input using BAM.\n",
        "\n",
        "    :param weights: Trained BAM weights\n",
        "    :param input_vector: Input vector (either ID or phone number)\n",
        "    :param vector_type: Type of input ('id' or 'phone')\n",
        "    :return: Retrieved vector (phone number or ID)\n",
        "    \"\"\"\n",
        "    # Construct the full input vector depending on the type (ID or Phone)\n",
        "    if vector_type == 'id':\n",
        "        full_input = np.concatenate((input_vector, np.zeros(weights.shape[0] // 2)))  # ID -> phone\n",
        "    elif vector_type == 'phone':\n",
        "        full_input = np.concatenate((np.zeros(weights.shape[0] // 2), input_vector))  # Phone -> ID\n",
        "    else:\n",
        "        raise ValueError(\"Input type should be 'id' or 'phone'\")\n",
        "\n",
        "    # Retrieve output vector by multiplying input with weights\n",
        "    output_vector = np.sign(np.dot(weights, full_input))\n",
        "    return output_vector\n",
        "\n",
        "# Example Training Data\n",
        "# 3 IDs with their respective phone numbers (binary representation)\n",
        "id_vectors = np.array([\n",
        "    [1, 0, 0],  # ID 1\n",
        "    [0, 1, 0],  # ID 2\n",
        "    [0, 0, 1]   # ID 3\n",
        "])\n",
        "\n",
        "phone_vectors = np.array([\n",
        "    [1, 1, 0],  # Phone for ID 1\n",
        "    [0, 1, 1],  # Phone for ID 2\n",
        "    [1, 0, 1]   # Phone for ID 3\n",
        "])\n",
        "\n",
        "# Train BAM\n",
        "weights = train_bam(id_vectors, phone_vectors)\n",
        "\n",
        "# Retrieve phone number from ID\n",
        "id_input = np.array([1, 0, 0])  # ID 1\n",
        "retrieved_phone = bam_retrieve(weights, id_input, vector_type='id')\n",
        "print(\"Retrieved Phone Number for ID 1:\", retrieved_phone)\n",
        "\n",
        "# Retrieve ID from phone number\n",
        "phone_input = np.array([1, 1, 0])  # Phone for ID 1\n",
        "retrieved_id = bam_retrieve(weights, phone_input, vector_type='phone')\n",
        "print(\"Retrieved ID for Phone (1, 1, 0):\", retrieved_id)\n"
      ]
    }
  ]
}