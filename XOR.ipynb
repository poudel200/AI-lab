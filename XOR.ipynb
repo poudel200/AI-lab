{
  "nbformat": 4,
  "nbformat_minor": 0,
  "metadata": {
    "colab": {
      "provenance": [],
      "authorship_tag": "ABX9TyNZNrwJiKtC31yxNSXnusF9",
      "include_colab_link": true
    },
    "kernelspec": {
      "name": "python3",
      "display_name": "Python 3"
    },
    "language_info": {
      "name": "python"
    }
  },
  "cells": [
    {
      "cell_type": "markdown",
      "metadata": {
        "id": "view-in-github",
        "colab_type": "text"
      },
      "source": [
        "<a href=\"https://colab.research.google.com/github/poudel200/AI-lab/blob/main/XOR.ipynb\" target=\"_parent\"><img src=\"https://colab.research.google.com/assets/colab-badge.svg\" alt=\"Open In Colab\"/></a>"
      ]
    },
    {
      "cell_type": "code",
      "execution_count": null,
      "metadata": {
        "id": "bmB9csNA-pJv"
      },
      "outputs": [],
      "source": [
        "import numpy as np\n",
        "\n",
        "def sigmoid(x):\n",
        "    return 1 / (1 + np.exp(-x))\n",
        "\n",
        "def sigmoid_derivative(x):\n",
        "    return x * (1 - x)\n",
        "\n",
        "def train_xor(inputs, targets, learning_rate, epochs):\n",
        "    np.random.seed(1)\n",
        "    input_layer_neurons = inputs.shape[1]\n",
        "    hidden_layer_neurons = 2\n",
        "    output_neurons = 1\n",
        "\n",
        "    hidden_weights = np.random.uniform(size=(input_layer_neurons, hidden_layer_neurons))\n",
        "    hidden_bias = np.random.uniform(size=(1, hidden_layer_neurons))\n",
        "    output_weights = np.random.uniform(size=(hidden_layer_neurons, output_neurons))\n",
        "    output_bias = np.random.uniform(size=(1, output_neurons))\n",
        "\n",
        "    for _ in range(epochs):\n",
        "        hidden_layer_input = np.dot(inputs, hidden_weights) + hidden_bias\n",
        "        hidden_layer_output = sigmoid(hidden_layer_input)\n",
        "\n",
        "        output_layer_input = np.dot(hidden_layer_output, output_weights) + output_bias\n",
        "        output_layer_output = sigmoid(output_layer_input)\n",
        "\n",
        "        output_error = targets - output_layer_output\n",
        "        output_gradient = output_error * sigmoid_derivative(output_layer_output)\n",
        "\n",
        "        hidden_error = output_gradient.dot(output_weights.T)\n",
        "        hidden_gradient = hidden_error * sigmoid_derivative(hidden_layer_output)\n",
        "\n",
        "        output_weights += hidden_layer_output.T.dot(output_gradient) * learning_rate\n",
        "        output_bias += np.sum(output_gradient, axis=0, keepdims=True) * learning_rate\n",
        "        hidden_weights += inputs.T.dot(hidden_gradient) * learning_rate\n",
        "        hidden_bias += np.sum(hidden_gradient, axis=0, keepdims=True) * learning_rate\n",
        "\n",
        "    return hidden_weights, hidden_bias, output_weights, output_bias\n",
        "\n",
        "def predict(inputs, hidden_weights, hidden_bias, output_weights, output_bias):\n",
        "    hidden_layer_input = np.dot(inputs, hidden_weights) + hidden_bias\n",
        "    hidden_layer_output = sigmoid(hidden_layer_input)\n",
        "\n",
        "    output_layer_input = np.dot(hidden_layer_output, output_weights) + output_bias\n",
        "    output_layer_output = sigmoid(output_layer_input)\n",
        "\n",
        "    return np.round(output_layer_output)\n",
        "\n",
        "inputs = np.array([[0, 0], [0, 1], [1, 0], [1, 1]])\n",
        "targets = np.array([[0], [1], [1], [0]])\n",
        "\n",
        "learning_rate = 0.5\n",
        "epochs = 10000\n",
        "\n",
        "hidden_weights, hidden_bias, output_weights, output_bias = train_xor(inputs, targets, learning_rate, epochs)\n",
        "\n",
        "predictions = predict(inputs, hidden_weights, hidden_bias, output_weights, output_bias)\n",
        "print(\"Predictions for XOR gate:\")\n",
        "print(predictions)\n"
      ]
    }
  ]
}