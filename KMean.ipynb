{
  "nbformat": 4,
  "nbformat_minor": 0,
  "metadata": {
    "colab": {
      "provenance": [],
      "authorship_tag": "ABX9TyOrumdX8z6wncfeTVq0ss3m",
      "include_colab_link": true
    },
    "kernelspec": {
      "name": "python3",
      "display_name": "Python 3"
    },
    "language_info": {
      "name": "python"
    }
  },
  "cells": [
    {
      "cell_type": "markdown",
      "metadata": {
        "id": "view-in-github",
        "colab_type": "text"
      },
      "source": [
        "<a href=\"https://colab.research.google.com/github/poudel200/AI-lab/blob/main/KMean.ipynb\" target=\"_parent\"><img src=\"https://colab.research.google.com/assets/colab-badge.svg\" alt=\"Open In Colab\"/></a>"
      ]
    },
    {
      "cell_type": "code",
      "execution_count": null,
      "metadata": {
        "id": "0VEQrBOhAP-e"
      },
      "outputs": [],
      "source": [
        "import numpy as np\n",
        "import matplotlib.pyplot as plt\n",
        "from sklearn.cluster import KMeans\n",
        "\n",
        "# Sample Data\n",
        "X = np.array([\n",
        "    [1, 2], [2, 3], [3, 3], [6, 5], [7, 8], [8, 9], [12, 10], [13, 12], [14, 13]\n",
        "])\n",
        "\n",
        "# Fit the KMeans model\n",
        "kmeans = KMeans(n_clusters=3)\n",
        "kmeans.fit(X)\n",
        "\n",
        "# Cluster Centers\n",
        "centroids = kmeans.cluster_centers_\n",
        "\n",
        "# Labels\n",
        "labels = kmeans.labels_\n",
        "\n",
        "# Plotting the data and cluster centers\n",
        "plt.scatter(X[:, 0], X[:, 1], c=labels, cmap='viridis')\n",
        "plt.scatter(centroids[:, 0], centroids[:, 1], marker='x', s=200, c='red')\n",
        "plt.title(\"K-Means Clustering\")\n",
        "plt.xlabel(\"Feature 1\")\n",
        "plt.ylabel(\"Feature 2\")\n",
        "plt.show()\n",
        "\n",
        "print(\"Cluster Centers:\")\n",
        "print(centroids)\n",
        "\n",
        "print(\"Labels for each point:\")\n",
        "print(labels)\n"
      ]
    }
  ]
}