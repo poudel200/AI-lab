{
  "nbformat": 4,
  "nbformat_minor": 0,
  "metadata": {
    "colab": {
      "provenance": [],
      "authorship_tag": "ABX9TyNN6R4p6LYNej0nTbDatAIV",
      "include_colab_link": true
    },
    "kernelspec": {
      "name": "python3",
      "display_name": "Python 3"
    },
    "language_info": {
      "name": "python"
    }
  },
  "cells": [
    {
      "cell_type": "markdown",
      "metadata": {
        "id": "view-in-github",
        "colab_type": "text"
      },
      "source": [
        "<a href=\"https://colab.research.google.com/github/poudel200/AI-lab/blob/main/Monkey_and_banana.ipynb\" target=\"_parent\"><img src=\"https://colab.research.google.com/assets/colab-badge.svg\" alt=\"Open In Colab\"/></a>"
      ]
    },
    {
      "cell_type": "code",
      "execution_count": 7,
      "metadata": {
        "colab": {
          "base_uri": "https://localhost:8080/"
        },
        "id": "uAdWOc57ZJv9",
        "outputId": "e638ce70-d0dc-4aa0-ef1d-6c238ac2eef6"
      },
      "outputs": [
        {
          "output_type": "stream",
          "name": "stdout",
          "text": [
            "Current State: ('monkey', 'box', False), Path: [('monkey', 'box', False)]\n",
            "Current State: ('box', 'box', False), Path: [('monkey', 'box', False), ('box', 'box', False)]\n",
            "Current State: ('box', 'under_bananas', False), Path: [('monkey', 'box', False), ('box', 'box', False), ('box', 'under_bananas', False)]\n",
            "Current State: ('under_bananas', 'under_bananas', False), Path: [('monkey', 'box', False), ('box', 'box', False), ('box', 'under_bananas', False), ('under_bananas', 'under_bananas', False)]\n",
            "Current State: ('under_bananas', 'under_bananas', True), Path: [('monkey', 'box', False), ('box', 'box', False), ('box', 'under_bananas', False), ('under_bananas', 'under_bananas', False), ('under_bananas', 'under_bananas', True)]\n",
            "BFS Result: False\n",
            "Path Taken: []\n"
          ]
        }
      ],
      "source": [
        "from collections import deque\n",
        "\n",
        "# Define successor function\n",
        "def successor(state):\n",
        "    monkey_pos, box_pos, has_bananas = state\n",
        "    successors = []\n",
        "\n",
        "\n",
        "    if monkey_pos != box_pos:\n",
        "        successors.append((box_pos, box_pos, has_bananas))\n",
        "\n",
        "\n",
        "    if monkey_pos == box_pos and not has_bananas:\n",
        "        successors.append((monkey_pos, 'under_bananas', has_bananas))\n",
        "\n",
        "\n",
        "    if monkey_pos == box_pos and not has_bananas:\n",
        "        successors.append((monkey_pos, box_pos, has_bananas))\n",
        "\n",
        "\n",
        "    if monkey_pos == 'under_bananas' and not has_bananas:\n",
        "        successors.append((monkey_pos, box_pos, True))\n",
        "\n",
        "    return successors\n",
        "\n",
        "\n",
        "def bfs(initial_state, goal_state):\n",
        "    queue = deque([(initial_state, [])])\n",
        "    visited = set()\n",
        "\n",
        "    while queue:\n",
        "        state, path = queue.popleft()\n",
        "\n",
        "        # Trace the current path\n",
        "        current_path = path + [state]\n",
        "        print(f\"Current State: {state}, Path: {current_path}\")\n",
        "\n",
        "        if state == goal_state:\n",
        "            return True, current_path\n",
        "\n",
        "        visited.add(state)\n",
        "\n",
        "        for succ in successor(state):\n",
        "            if succ not in visited:\n",
        "                queue.append((succ, current_path))\n",
        "\n",
        "    return False, []\n",
        "\n",
        "# Define the initial and final states\n",
        "initial_state = ('monkey', 'box', False)\n",
        "goal_state = ('monkey', 'box', True)\n",
        "\n",
        "\n",
        "bfs_result, path_taken = bfs(initial_state, goal_state)\n",
        "\n",
        "print(\"BFS Result:\", bfs_result)\n",
        "print(\"Path Taken:\", path_taken)\n"
      ]
    }
  ]
}